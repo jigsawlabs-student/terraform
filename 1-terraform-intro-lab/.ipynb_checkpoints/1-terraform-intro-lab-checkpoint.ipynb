{
 "cells": [
  {
   "cell_type": "markdown",
   "metadata": {},
   "source": [
    "# Terraform Intro Lab"
   ]
  },
  {
   "cell_type": "markdown",
   "metadata": {},
   "source": [
    "### Introduction"
   ]
  },
  {
   "cell_type": "markdown",
   "metadata": {},
   "source": [
    "In this lab, we'll practice setting up an EC2 resource in terraform.  Let's get started."
   ]
  },
  {
   "cell_type": "markdown",
   "metadata": {},
   "source": [
    "### Setting up the Provider"
   ]
  },
  {
   "cell_type": "markdown",
   "metadata": {},
   "source": [
    "Begin by creating a `tf` folder that contains a `main.tf` file.  From there, begin by adding the provider block, that specifies the aws provider and a region of `us-east-1`."
   ]
  },
  {
   "cell_type": "markdown",
   "metadata": {},
   "source": [
    "Then run the `terraform init` command.  This should trigger a download of the related aws modules."
   ]
  },
  {
   "cell_type": "markdown",
   "metadata": {},
   "source": [
    "> <img src=\"./downloading_modules.png\" width=\"60%\">"
   ]
  },
  {
   "cell_type": "markdown",
   "metadata": {},
   "source": [
    "### Adding the Resource"
   ]
  },
  {
   "cell_type": "markdown",
   "metadata": {},
   "source": [
    "From here, let's add our resource block.  Here, our resource is an `aws_instance` which we can name in terraform as `backend_server`.  \n",
    "\n",
    "We should add the properties of an `instance_type` and `ami` to the resourcce.  The `ami` value can be set as `\"ami-0c55b159cbfafe1f0\"`."
   ]
  },
  {
   "cell_type": "markdown",
   "metadata": {},
   "source": [
    "### Applying the Changes"
   ]
  },
  {
   "cell_type": "markdown",
   "metadata": {},
   "source": [
    "Now that our resource block is set up, it's time to view, and then apply the changes."
   ]
  },
  {
   "cell_type": "markdown",
   "metadata": {},
   "source": [
    "* `terraform manage`\n",
    "\n",
    "* `terraform apply`"
   ]
  },
  {
   "cell_type": "markdown",
   "metadata": {},
   "source": [
    "If done correctly, after calling apply, we should get an output that specifies the ec2 id.  \n",
    "\n",
    "> Look for an output that begins `id-`."
   ]
  },
  {
   "cell_type": "markdown",
   "metadata": {},
   "source": [
    "Then, find the corresponding EC2 instance in the dashboard, with the matching id.  \n",
    "\n",
    "> **Gotcha**: Make sure that you are checking for resources in the correct region."
   ]
  },
  {
   "cell_type": "markdown",
   "metadata": {},
   "source": [
    "Finally, to make it a little easier to identify our aws instance, let's add a name to the instance.  We do this through a name label.  So in the resource add the following:\n",
    "\n",
    "\n",
    "```bash\n",
    "tags = {\n",
    "    Name = \"backend server\"\n",
    "  }\n",
    "```\n",
    "\n",
    "Then apply the changes, and take another look at the EC2 instances, we should see one of the with a name of `backend server`."
   ]
  },
  {
   "cell_type": "markdown",
   "metadata": {},
   "source": [
    "### Cleaning Up"
   ]
  },
  {
   "cell_type": "markdown",
   "metadata": {},
   "source": [
    "Finally, to avoid incurring ongoing charges for our EC2 instance, destroy the related instance by running `terraform destroy`."
   ]
  },
  {
   "cell_type": "markdown",
   "metadata": {},
   "source": [
    "### Resources\n",
    "\n",
    "[Introducing Terraform](https://blog.gruntwork.io/an-introduction-to-terraform-f17df9c6d180)"
   ]
  },
  {
   "cell_type": "code",
   "execution_count": null,
   "metadata": {},
   "outputs": [],
   "source": []
  }
 ],
 "metadata": {
  "kernelspec": {
   "display_name": "Python 3",
   "language": "python",
   "name": "python3"
  },
  "language_info": {
   "codemirror_mode": {
    "name": "ipython",
    "version": 3
   },
   "file_extension": ".py",
   "mimetype": "text/x-python",
   "name": "python",
   "nbconvert_exporter": "python",
   "pygments_lexer": "ipython3",
   "version": "3.9.1"
  }
 },
 "nbformat": 4,
 "nbformat_minor": 4
}
