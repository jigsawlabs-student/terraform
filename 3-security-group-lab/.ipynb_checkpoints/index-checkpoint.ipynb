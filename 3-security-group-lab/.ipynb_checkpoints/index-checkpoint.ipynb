{
 "cells": [
  {
   "cell_type": "markdown",
   "metadata": {},
   "source": [
    "# Security Group Lab"
   ]
  },
  {
   "cell_type": "markdown",
   "metadata": {},
   "source": [
    "### Introduction"
   ]
  },
  {
   "cell_type": "markdown",
   "metadata": {},
   "source": [
    "In this lesson, we'll practice working with the security group -- that is, the firewall -- associated with an EC2 instance.  We'll do so by adding the security group resource, and from there attaching the security group to our resource."
   ]
  },
  {
   "cell_type": "markdown",
   "metadata": {},
   "source": [
    "### Getting Started"
   ]
  },
  {
   "cell_type": "markdown",
   "metadata": {},
   "source": [
    "Before getting started, let's take a look at the work that we've accomplished so far.  "
   ]
  },
  {
   "cell_type": "markdown",
   "metadata": {},
   "source": [
    "```bash\n",
    "# tf/main.tf \n",
    "\n",
    "provider \"aws\" {\n",
    "  region = \"us-east-1\"\n",
    "}\n",
    "\n",
    "resource \"aws_instance\" \"backend_server\" {\n",
    "  ami           = \"ami-0c55b159cbfafe1f0\"\n",
    "  instance_type = \"t2.micro\"\n",
    "  \n",
    "  user_data = <<-EOF\n",
    "              #!/bin/bash\n",
    "              echo \"Hello Everyone\" > index.html\n",
    "              nohup busybox httpd -f -p 3000 &\n",
    "              EOF\n",
    "  \n",
    "  tags = {\n",
    "      Name = \"backend server\"\n",
    "  }\n",
    "}\n",
    "```"
   ]
  },
  {
   "cell_type": "markdown",
   "metadata": {},
   "source": [
    "In our `tf/main.tf` file, we specify our provider and region, and then create an `aws_instance` resource named `backend_server` in terraform.  We configure it to have `instance_type` of `t2.micro`, and set the AMI id."
   ]
  },
  {
   "cell_type": "markdown",
   "metadata": {},
   "source": [
    "We also setup some code so that will run a server that displays the text `\"Hello Everyone\"`.  Our task will be to expose this server so that any ip address can acess it on port `3000`."
   ]
  },
  {
   "cell_type": "markdown",
   "metadata": {},
   "source": [
    "### Adding the Security Group"
   ]
  },
  {
   "cell_type": "markdown",
   "metadata": {},
   "source": [
    "Now it's time to create the security group resource.  We'll provide you with the basic structure and it will be your task to fill in the related values:\n",
    "\n",
    "```bash\n",
    "resource \"aws_security_group\" \"http_backend_security\" {\n",
    "  name = \"http backend security\"\n",
    "  ingress {\n",
    "    from_port   = ?\n",
    "    to_port     = ?\n",
    "    protocol    = \"tcp\"\n",
    "    cidr_blocks = [\"?\"]\n",
    "  }\n",
    "}\n",
    "```"
   ]
  },
  {
   "cell_type": "markdown",
   "metadata": {},
   "source": [
    "Fill in the code above, and then *connect the security group to the EC2 resource defined above*.  \n",
    "\n",
    "If it works properly, we should be able to visit the corresponding address, and see the text `Hello Everyone`.\n",
    "\n",
    "> **Gotcha:** Be sure to make the add in the port when visiting the address, and be sure that you are visiting `http://ipaddress:3000` as opposed `https`."
   ]
  },
  {
   "cell_type": "markdown",
   "metadata": {},
   "source": [
    "### Enabling SSH Access"
   ]
  },
  {
   "cell_type": "markdown",
   "metadata": {},
   "source": [
    "Now that we have setup http access, let's try something new by enabling SSH access.  Now remember that when we ssh into a machine we use our pem file on our local computer to then access our EC2 instance.  \n",
    "\n",
    "Now for the EC2 instance we are creating with terraform, we can use one of our already existing key-pairs.  We can do this by first navigating to the AWS console, and then type in key pairs.  We should see it show up under `Features` -- click there."
   ]
  },
  {
   "cell_type": "markdown",
   "metadata": {},
   "source": [
    "<img src=\"./key_pairs.png\" width=\"60%\">"
   ]
  },
  {
   "cell_type": "markdown",
   "metadata": {},
   "source": [
    "Then, we will be taken to a screen that displays our previously created key pairs."
   ]
  },
  {
   "cell_type": "markdown",
   "metadata": {},
   "source": [
    "<img src=\"key_pairs_before.png\" width=\"90%\">"
   ]
  },
  {
   "cell_type": "markdown",
   "metadata": {},
   "source": [
    "Each of the existing pairs should correspond to a separate .pem file on your computer. \n",
    "\n",
    "> If you cannot find any of the related pem files, just click on `Create key pair` to create, and then download another one."
   ]
  },
  {
   "cell_type": "markdown",
   "metadata": {},
   "source": [
    "Ok, now we'll use one of the key pairs listed above to connect to our EC2 instance.  We can do so by going to our existing `aws_instance` resource, and adding a `key_name` attribute after the `instance_type` attribute.  Set the value for `key_name` equal to the corresponding name that is displayed in the console -- in other words, there should be no .pem at the end.\n",
    "\n",
    "Now that we have specified the key name, we will still need to allow for SSH access on port 22.  We'll do so by adding the following security group."
   ]
  },
  {
   "cell_type": "markdown",
   "metadata": {},
   "source": [
    "```bash\n",
    "resource \"aws_security_group\" \"ssh_backend_security\" {\n",
    "    name = \"ssh backend security\"\n",
    "    \n",
    "    ingress {\n",
    "        cidr_blocks = [\n",
    "          \"0.0.0.0/0\"\n",
    "        ]\n",
    "    from_port = 22\n",
    "        to_port = 22\n",
    "        protocol = \"tcp\"\n",
    "      }\n",
    "    \n",
    "      egress {\n",
    "       from_port = 0\n",
    "       to_port = 0\n",
    "       protocol = \"-1\"\n",
    "       cidr_blocks = [\"0.0.0.0/0\"]\n",
    "     }\n",
    "}\n",
    "```"
   ]
  },
  {
   "cell_type": "markdown",
   "metadata": {},
   "source": [
    "The only new item is our `egress`.  If ingress is making requests into our machine, the egress is how information leaves the machine.  Notice that we again allow responses to be sent to any ip address.\n",
    "\n",
    "The last step is connecting our new security group to the `aws_instance` resource.  So we hsould now have two `security_group_ids` referenced in the list."
   ]
  },
  {
   "cell_type": "markdown",
   "metadata": {},
   "source": [
    "Then apply the changes.  "
   ]
  },
  {
   "cell_type": "markdown",
   "metadata": {},
   "source": [
    "If it works, we should be able to ssh into the machine use our pem file.  \n",
    "\n",
    "For instructions, remember that we can click on the related EC2 instance, and then click on the `Connect` button to the right, followed by the `SSH` tab."
   ]
  },
  {
   "cell_type": "markdown",
   "metadata": {},
   "source": [
    "<img src=\"./connect_ssh.png\" width=\"80%\">"
   ]
  },
  {
   "cell_type": "markdown",
   "metadata": {},
   "source": [
    "### Summary"
   ]
  },
  {
   "cell_type": "markdown",
   "metadata": {},
   "source": [
    "Great work, we have now seen how to setup the security for enabling access to our EC2 machine via SSH and http in terraform."
   ]
  },
  {
   "cell_type": "markdown",
   "metadata": {},
   "source": [
    "[terraform keypair](https://medium.com/@hmalgewatta/setting-up-an-aws-ec2-instance-with-ssh-access-using-terraform-c336c812322f)"
   ]
  },
  {
   "cell_type": "markdown",
   "metadata": {},
   "source": [
    "[IP Addresses and Subnets Digital Ocean](https://www.digitalocean.com/community/tutorials/understanding-ip-addresses-subnets-and-cidr-notation-for-networking#netmasks-and-subnets)"
   ]
  },
  {
   "cell_type": "markdown",
   "metadata": {},
   "source": [
    "[Terraform and CIDR](http://blog.itsjustcode.net/blog/2017/11/18/terraform-cidrsubnet-deconstructed/)"
   ]
  }
 ],
 "metadata": {
  "kernelspec": {
   "display_name": "Python 3",
   "language": "python",
   "name": "python3"
  },
  "language_info": {
   "codemirror_mode": {
    "name": "ipython",
    "version": 3
   },
   "file_extension": ".py",
   "mimetype": "text/x-python",
   "name": "python",
   "nbconvert_exporter": "python",
   "pygments_lexer": "ipython3",
   "version": "3.9.1"
  }
 },
 "nbformat": 4,
 "nbformat_minor": 4
}
