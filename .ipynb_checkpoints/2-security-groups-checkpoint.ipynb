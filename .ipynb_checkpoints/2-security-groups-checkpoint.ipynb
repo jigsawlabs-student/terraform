{
 "cells": [
  {
   "cell_type": "markdown",
   "metadata": {},
   "source": [
    "# Terraform Security Groups"
   ]
  },
  {
   "cell_type": "markdown",
   "metadata": {},
   "source": [
    "### Introduction"
   ]
  },
  {
   "cell_type": "markdown",
   "metadata": {},
   "source": [
    "In the last lesson, we saw how to launch an EC2 instance using terraform.  To accomplish this, we worked with two terraform blocks, the `provider` block and the `resource` block.\n",
    "\n",
    "The provider block is where we specified the aws service and the related region.\n",
    "\n",
    "```bash\n",
    "provider \"aws\" {\n",
    "  region = \"us-east-2\"\n",
    "}\n",
    "```\n",
    "\n",
    "And the resource block is where we specified that we would be using the ec2 instance, called `aws_instance` and the configuration details like the `ami` and `instance_type`.\n",
    "\n",
    "```bash\n",
    "resource \"aws_instance\" \"example\" {\n",
    "  ami           = \"ami-0c55b159cbfafe1f0\"\n",
    "  instance_type = \"t2.micro\"\n",
    "}\n",
    "```"
   ]
  },
  {
   "cell_type": "markdown",
   "metadata": {},
   "source": [
    "In this lesson, we'll look at adding our security group information to our ec2 instance."
   ]
  },
  {
   "cell_type": "markdown",
   "metadata": {},
   "source": [
    "### Adding a Web Application"
   ]
  },
  {
   "cell_type": "markdown",
   "metadata": {},
   "source": [
    "We can see this by setting up a little server directly on our AWS machine like so."
   ]
  },
  {
   "cell_type": "markdown",
   "metadata": {},
   "source": [
    "```bash\n",
    "resource \"aws_instance\" \"example\" {\n",
    "  ami           = \"ami-0c55b159cbfafe1f0\"\n",
    "  instance_type = \"t2.micro\"\n",
    "  \n",
    "  user_data = <<-EOF\n",
    "              #!/bin/bash\n",
    "              echo \"Hello, World\" > index.html\n",
    "              nohup busybox httpd -f -p 8080 &\n",
    "              EOF\n",
    "}\n",
    "```"
   ]
  },
  {
   "cell_type": "markdown",
   "metadata": {},
   "source": [
    "Let's take a closer look at the newly added code."
   ]
  },
  {
   "cell_type": "markdown",
   "metadata": {},
   "source": [
    "```bash\n",
    "user_data = <<-EOF\n",
    "              #!/bin/bash\n",
    "              echo \"Hello World\" > index.html\n",
    "              nohup busybox httpd -f -p 80 &\n",
    "              EOF\n",
    "```"
   ]
  },
  {
   "cell_type": "markdown",
   "metadata": {},
   "source": [
    "* **user_data**\n",
    "\n",
    "The `user_data` is property is not something we'll use very often.  We're simply taking advantage of the fact that it's run by terraform after our instance sets up.  \n",
    "\n",
    "* **EOF**\n",
    "\n",
    "EOF is simply the delimiter for a multiline string in bash (called a docstring).  Notice that we begin with `<<-EOF` and end with `EOF`.  \n",
    "\n",
    "> It's equivalent to the `\"\"\"` in Python.  \n",
    "\n",
    "* **Our Server**\n",
    "\n",
    "Then we write `Hello World` into an `index.html` file.  And that file is then served via the busybox server on port 80, and and the process is run as a background job."
   ]
  },
  {
   "cell_type": "markdown",
   "metadata": {},
   "source": [
    "Now let's apply our changes."
   ]
  },
  {
   "cell_type": "code",
   "execution_count": null,
   "metadata": {},
   "outputs": [],
   "source": []
  },
  {
   "cell_type": "markdown",
   "metadata": {},
   "source": [
    "Now if we try to access our string server by visiting our public ip address, we'll see an error."
   ]
  },
  {
   "cell_type": "markdown",
   "metadata": {},
   "source": [
    "### The Issue"
   ]
  },
  {
   "cell_type": "markdown",
   "metadata": {},
   "source": [
    "Remember that in AWS, every EC2 instance is placed behind a firewall that determines how traffic from flows to and from EC2 machine.  By default, no traffic is allowed to flow into our EC2 machine.  "
   ]
  },
  {
   "cell_type": "markdown",
   "metadata": {},
   "source": [
    "```bash\n",
    "resource \"aws_security_group\" \"instance\" {\n",
    "  name = \"terraform-example-instance\"\n",
    "  ingress {\n",
    "    from_port   = 8080\n",
    "    to_port     = 8080\n",
    "    protocol    = \"tcp\"\n",
    "    cidr_blocks = [\"0.0.0.0/0\"]\n",
    "  }\n",
    "}\n",
    "```"
   ]
  },
  {
   "cell_type": "markdown",
   "metadata": {},
   "source": [
    "\n",
    "Where PROVIDER is the name of the provider (e.g., aws), TYPE is the type of resource (e.g., security_group), NAME is the name of that resource (e.g., the security group is named \"instance\"), and ATTRIBUTE is either one of the arguments of that resource (e.g., name) or one of the attributes exported by the resource (you can find the list of available attributes in the documentation for each resource—e.g., here are the attributes for aws_security_group). The security group exports an attribute called id, so the expression to reference it will look like this:\n"
   ]
  },
  {
   "cell_type": "markdown",
   "metadata": {},
   "source": [
    "```bash\n",
    "resource attribute reference,\n",
    "which uses the following syntax:\n",
    "<PROVIDER>_<TYPE>.<NAME>.<ATTRIBUTE>\n",
    "```"
   ]
  },
  {
   "cell_type": "markdown",
   "metadata": {},
   "source": [
    "* Potentially, need to talk about nginx and an AWS load balancer."
   ]
  },
  {
   "cell_type": "markdown",
   "metadata": {},
   "source": [
    "### Resources"
   ]
  },
  {
   "cell_type": "markdown",
   "metadata": {},
   "source": [
    "[Introducing Terraform](https://blog.gruntwork.io/an-introduction-to-terraform-f17df9c6d180)\n",
    "\n",
    "[Terraform with Docker](https://www.airpair.com/aws/posts/ntiered-aws-docker-terraform-guide)"
   ]
  },
  {
   "cell_type": "code",
   "execution_count": null,
   "metadata": {},
   "outputs": [],
   "source": []
  }
 ],
 "metadata": {
  "kernelspec": {
   "display_name": "Python 3",
   "language": "python",
   "name": "python3"
  },
  "language_info": {
   "codemirror_mode": {
    "name": "ipython",
    "version": 3
   },
   "file_extension": ".py",
   "mimetype": "text/x-python",
   "name": "python",
   "nbconvert_exporter": "python",
   "pygments_lexer": "ipython3",
   "version": "3.9.1"
  }
 },
 "nbformat": 4,
 "nbformat_minor": 4
}
