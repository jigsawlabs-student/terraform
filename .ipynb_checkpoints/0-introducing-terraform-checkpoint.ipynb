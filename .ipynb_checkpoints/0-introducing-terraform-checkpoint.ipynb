{
 "cells": [
  {
   "cell_type": "markdown",
   "metadata": {},
   "source": [
    "# Intro to Terraform"
   ]
  },
  {
   "cell_type": "markdown",
   "metadata": {},
   "source": [
    "### Introduction\n",
    "\n",
    "So far, in using AWS, we have relied on the AWS console.  This is our web interface for using AWS, where we relied on a combination of dashboards and forms, to get our AWS resources properly configured as part of deploying our application.  In this lesson, we'll see how set up our AWS resources purely through code, by using a new tool called terraform. "
   ]
  },
  {
   "cell_type": "markdown",
   "metadata": {},
   "source": [
    "### Starting with Terraform"
   ]
  },
  {
   "cell_type": "markdown",
   "metadata": {},
   "source": [
    "Now we can begin using terraform by creating a new folder -- which we can call `tf` and adding a new file called `main.tf` that looks like the following."
   ]
  },
  {
   "cell_type": "markdown",
   "metadata": {},
   "source": [
    "```bash \n",
    "# tf/main.tf\n",
    "\n",
    "provider \"aws\" {\n",
    "  region = \"us-east-2\"\n",
    "}\n",
    "\n",
    "resource \"aws_instance\" \"backend_server\" {\n",
    "  ami           = \"ami-0c55b159cbfafe1f0\"\n",
    "  instance_type = \"t2.micro\"\n",
    "}\n",
    "```"
   ]
  },
  {
   "cell_type": "markdown",
   "metadata": {},
   "source": [
    "Let's see if we can get a sense of what the above is doing.  The code above is written `HCL` -- HashiCorp Configuration Language -- HashiCorp is the company behind terraform.  HCL is designed to be a cleaner version of JSON.  And we can see that it wraps code in what looks like JSON dictionaries.  However one main difference is that the code uses a `key = value` pattern, instead of separating each key and value with a colon as in JSON.\n",
    "\n",
    "Now above, our code consists of two blocks -- the `provider` block and the resource `block`.  \n",
    "\n",
    "* Provider\n",
    "\n",
    "```bash\n",
    "provider \"aws\" {\n",
    "  region = \"us-east-2\"\n",
    "}\n",
    "```\n",
    "\n",
    "The provider block specifies where we are deploying our code.  For example, above we are deploying our code to AWS's cloud, in region `us-east-2`.  \n",
    "\n",
    "> We could also specify our account, so that AWS knows the VPC to deploy to, but terraform will look to our user logged in via the AWS CLI on our computer.  "
   ]
  },
  {
   "cell_type": "markdown",
   "metadata": {},
   "source": [
    "* resource"
   ]
  },
  {
   "cell_type": "markdown",
   "metadata": {},
   "source": [
    "```bash\n",
    "resource \"aws_instance\" \"backend_server\" {\n",
    "  ami           = \"ami-0c55b159cbfafe1f0\"\n",
    "  instance_type = \"t2.micro\"\n",
    "}\n",
    "```"
   ]
  },
  {
   "cell_type": "markdown",
   "metadata": {},
   "source": [
    "We begin the resource block with the following pattern: \n",
    "\n",
    "* `resource [resource_type] [resource_name]`\n",
    "\n",
    "So above we specify the type of the resource we are using -- `aws_instance` followed by the *name* of the instance terraform can reference this specific resource as, `backend_server`.  If we think about the contents of our AWS resource, we need to specify both our Amazon Machine Image -- the AMI, which specifies the software on our instance -- and the `instance_type` which indicates the hardware.  Above we are using the instance type of `t2.micro`, which comes with a limited amount of hardware, but is free."
   ]
  },
  {
   "cell_type": "markdown",
   "metadata": {},
   "source": [
    "### Applying our Code"
   ]
  },
  {
   "cell_type": "markdown",
   "metadata": {},
   "source": [
    "Now our first step in creating a new terraform project is to run `terraform init` from the command line. "
   ]
  },
  {
   "cell_type": "markdown",
   "metadata": {},
   "source": [
    "<img src=\"./terraform_first_init.png\" width=\"70%\">"
   ]
  },
  {
   "cell_type": "markdown",
   "metadata": {},
   "source": [
    "This command looks at the the provider specified in the provider block and determines and sets up various configuration files so that it can interact with the specified provider -- here AWS. \n",
    "\n",
    "> Notice that we now have a couple of added files and folders in our `tf` directory like `.terraform` and `.terraform.lock.hcl`.\n",
    "\n",
    "```bash\n",
    "ls\n",
    "# .terraform          .terraform.lock.hcl main.tf\n",
    "```"
   ]
  },
  {
   "cell_type": "markdown",
   "metadata": {},
   "source": [
    "Now running `terraform init` only sets up our configuration for a working directory.  To deploy our setup to AWS, we'll need two additional commands, `terraform plan` and `terraform apply`."
   ]
  },
  {
   "cell_type": "markdown",
   "metadata": {},
   "source": [
    "### Terraform Plan"
   ]
  },
  {
   "cell_type": "markdown",
   "metadata": {},
   "source": [
    "Next up is the `terraform plan` command.  This does not actually deploy to AWS, but rather indicates to us what is about to be deployed, and to be changed.  Let's try it."
   ]
  },
  {
   "cell_type": "markdown",
   "metadata": {},
   "source": [
    "<img src=\"./terraform_plan.png\" width=\"60%\">"
   ]
  },
  {
   "cell_type": "markdown",
   "metadata": {},
   "source": [
    "As we can see abovem terraform tells us what will be created.  We can see that many of the values -- like the public ip address -- won't be known until we actually deploy to AWS.  But other items that we specify, like the `ami` *is* known.\n",
    "\n",
    "Also take a look at the `+` next to each of theese values.  This tells us at each of the items will be created by the changes.  If we saw a - sign, it would indicate the the items would be removed (just like we see in git)."
   ]
  },
  {
   "cell_type": "markdown",
   "metadata": {},
   "source": [
    "### Terraform Apply"
   ]
  },
  {
   "cell_type": "markdown",
   "metadata": {},
   "source": [
    "Now it's time to deploy create our specified AWS instance.  We do so by running `terraform apply`."
   ]
  },
  {
   "cell_type": "markdown",
   "metadata": {},
   "source": [
    "> Terraform will ask for confirmation before applying the specified changes, type `yes`."
   ]
  },
  {
   "cell_type": "markdown",
   "metadata": {},
   "source": [
    "```bash\n",
    "Do you want to perform these actions?\n",
    "  Terraform will perform the actions described above.\n",
    "  Only 'yes' will be accepted to approve.\n",
    "```"
   ]
  },
  {
   "cell_type": "markdown",
   "metadata": {},
   "source": [
    "From here, we'll see in our terminal that our AWS resource has been created."
   ]
  },
  {
   "cell_type": "markdown",
   "metadata": {},
   "source": [
    "<img src=\"./making-change.png\" width=\"60%\">"
   ]
  },
  {
   "cell_type": "markdown",
   "metadata": {},
   "source": [
    "And when we go to the aws cocnsole, we'll see the following."
   ]
  },
  {
   "cell_type": "markdown",
   "metadata": {},
   "source": [
    "<img src=\"./display_in_console.png\" width=\"60%\">"
   ]
  },
  {
   "cell_type": "markdown",
   "metadata": {},
   "source": [
    "> Notice, that the instance id we see in the console matches the id that we see in the terminal `i-03...`."
   ]
  },
  {
   "cell_type": "markdown",
   "metadata": {},
   "source": [
    "> **Gotcha**: If you do not see the terraform instance running, be sure to check that in your AWS console, you are viewing the correct region -- above we specified `us-east-2`."
   ]
  },
  {
   "cell_type": "markdown",
   "metadata": {},
   "source": [
    "<img src=\"./us-east-2.png\" width=\"50%\">"
   ]
  },
  {
   "cell_type": "markdown",
   "metadata": {},
   "source": [
    "### Summary"
   ]
  },
  {
   "cell_type": "markdown",
   "metadata": {},
   "source": [
    "In this lesson, we learned how to deploy an EC2 instance to AWS.  We first wrote the provider block, which specifies the cloud service we are using and the AWS region."
   ]
  },
  {
   "cell_type": "markdown",
   "metadata": {},
   "source": [
    "```bash\n",
    "provider \"aws\" {\n",
    "  region = \"us-east-2\"\n",
    "}\n",
    "```"
   ]
  },
  {
   "cell_type": "markdown",
   "metadata": {},
   "source": [
    "Then we needed to specify which resource to create in AWS.  Here, we specified an EC2 instance with our resource block:"
   ]
  },
  {
   "cell_type": "markdown",
   "metadata": {},
   "source": [
    "```bash\n",
    "resource \"aws_instance\" \"backend_server\" {\n",
    "  ami           = \"ami-0c55b159cbfafe1f0\"\n",
    "  instance_type = \"t2.micro\"\n",
    "}\n",
    "```"
   ]
  },
  {
   "cell_type": "markdown",
   "metadata": {},
   "source": [
    "\n",
    "This tells Terraform that you are going to be using the AWS provider and that you wish to deploy your infrastructure in the us-east-2 region \n",
    "\n",
    "* (AWS has data centers all over the world, grouped into regions and availability zones, and us-east-2 is the name for data centers in Ohio, USA).\n",
    "\n",
    "* Can also configure authentication here, but we already configured with AWS console."
   ]
  },
  {
   "cell_type": "markdown",
   "metadata": {},
   "source": [
    "### Why Terraform"
   ]
  },
  {
   "cell_type": "markdown",
   "metadata": {},
   "source": [
    "Using the AWS console is fine, but we get many more benefits if we translate our AWS infrastructure into code.  For example, we can track what changes are made over time, simply by making git commits.  This means that we can also rollback changes simply by undoing a git commit.  It's also easier to get an overview of our infrastrcuture, as the state of our infrastructure is in code, and we do not have to navigate through various dashboards.  It becomes easier to reproduce our infrastructure -- say in a different AWS region, simply by reusing the code.  We can also use coding practices like variables to ensure that we do not repeat ourselves, and our values (like port numbers) are consistent.  \n",
    "\n",
    "Ok, let's see it."
   ]
  },
  {
   "cell_type": "code",
   "execution_count": null,
   "metadata": {},
   "outputs": [],
   "source": []
  },
  {
   "cell_type": "markdown",
   "metadata": {},
   "source": [
    "```json\n",
    "resource \"<PROVIDER>_<TYPE>\" \"<NAME>\" {\n",
    " [CONFIG …]\n",
    "}\n",
    "```"
   ]
  },
  {
   "cell_type": "markdown",
   "metadata": {},
   "source": [
    "`terraform init`"
   ]
  },
  {
   "cell_type": "markdown",
   "metadata": {},
   "source": [
    "<img src=\"./terraform_init.png\" width=\"50%\">"
   ]
  },
  {
   "cell_type": "markdown",
   "metadata": {},
   "source": [
    "* For now, just be aware that you need to run init any time you start with new Terraform code, and that it’s safe to run init multiple times (the command is idempotent).\n"
   ]
  },
  {
   "cell_type": "markdown",
   "metadata": {},
   "source": [
    "### Terraform Plan"
   ]
  },
  {
   "cell_type": "markdown",
   "metadata": {},
   "source": [
    "The plan command lets you see what Terraform will do before actually doing it."
   ]
  },
  {
   "cell_type": "markdown",
   "metadata": {},
   "source": [
    "### Terraform Apply"
   ]
  },
  {
   "cell_type": "markdown",
   "metadata": {},
   "source": [
    "<img src=\"./terraform_apply.png\" width=\"60%\">"
   ]
  },
  {
   "cell_type": "code",
   "execution_count": null,
   "metadata": {},
   "outputs": [],
   "source": []
  },
  {
   "cell_type": "markdown",
   "metadata": {},
   "source": [
    "<img src=\"./terraform_ec2_running.png\" width=\"60%\">"
   ]
  },
  {
   "cell_type": "markdown",
   "metadata": {},
   "source": [
    "### Adding a Name"
   ]
  },
  {
   "cell_type": "markdown",
   "metadata": {},
   "source": [
    "<img src=\"./terraform-server.png\" width=\"70%\">"
   ]
  },
  {
   "cell_type": "code",
   "execution_count": null,
   "metadata": {},
   "outputs": [],
   "source": []
  },
  {
   "cell_type": "markdown",
   "metadata": {},
   "source": [
    "### Resources\n",
    "\n",
    "[Terraform Credentials](https://dowjones.github.io/hammer/deployment_terraform.html)"
   ]
  }
 ],
 "metadata": {
  "kernelspec": {
   "display_name": "Python 3",
   "language": "python",
   "name": "python3"
  },
  "language_info": {
   "codemirror_mode": {
    "name": "ipython",
    "version": 3
   },
   "file_extension": ".py",
   "mimetype": "text/x-python",
   "name": "python",
   "nbconvert_exporter": "python",
   "pygments_lexer": "ipython3",
   "version": "3.9.1"
  }
 },
 "nbformat": 4,
 "nbformat_minor": 4
}
