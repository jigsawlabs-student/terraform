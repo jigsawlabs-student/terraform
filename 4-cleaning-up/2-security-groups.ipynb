{
 "cells": [
  {
   "cell_type": "markdown",
   "metadata": {},
   "source": [
    "# Terraform Security Groups"
   ]
  },
  {
   "cell_type": "markdown",
   "metadata": {},
   "source": [
    "### Introduction"
   ]
  },
  {
   "cell_type": "markdown",
   "metadata": {},
   "source": [
    "In the last lesson, we saw how to launch an EC2 instance using terraform.  To accomplish this, we worked with two terraform blocks, the `provider` block and the `resource` block.\n",
    "\n",
    "The provider block is where we specified the aws service and the related region.\n",
    "\n",
    "```bash\n",
    "provider \"aws\" {\n",
    "  region = \"us-east-2\"\n",
    "}\n",
    "```\n",
    "\n",
    "And the resource block is where we specified that we would be using the ec2 instance, called `aws_instance` and the configuration details like the `ami` and `instance_type`.\n",
    "\n",
    "```bash\n",
    "resource \"aws_instance\" \"example\" {\n",
    "  ami           = \"ami-0c55b159cbfafe1f0\"\n",
    "  instance_type = \"t2.micro\"\n",
    "}\n",
    "```"
   ]
  },
  {
   "cell_type": "markdown",
   "metadata": {},
   "source": [
    "In this lesson, we'll look at adding our security group information to our ec2 instance."
   ]
  },
  {
   "cell_type": "markdown",
   "metadata": {},
   "source": [
    "### Adding a Web Application"
   ]
  },
  {
   "cell_type": "markdown",
   "metadata": {},
   "source": [
    "We can see this by setting up a little server directly on our AWS machine like so."
   ]
  },
  {
   "cell_type": "markdown",
   "metadata": {},
   "source": [
    "```bash\n",
    "resource \"aws_instance\" \"example\" {\n",
    "  ami           = \"ami-0c55b159cbfafe1f0\"\n",
    "  instance_type = \"t2.micro\"\n",
    "  \n",
    "  user_data = <<-EOF\n",
    "              #!/bin/bash\n",
    "              echo \"Hello, World\" > index.html\n",
    "              nohup busybox httpd -f -p 80 &\n",
    "              EOF\n",
    "}\n",
    "```"
   ]
  },
  {
   "cell_type": "markdown",
   "metadata": {},
   "source": [
    "Let's take a closer look at the newly added code."
   ]
  },
  {
   "cell_type": "markdown",
   "metadata": {},
   "source": [
    "```bash\n",
    "user_data = <<-EOF\n",
    "              #!/bin/bash\n",
    "              echo \"Hello World\" > index.html\n",
    "              nohup busybox httpd -f -p 80 &\n",
    "              EOF\n",
    "```"
   ]
  },
  {
   "cell_type": "markdown",
   "metadata": {},
   "source": [
    "* **user_data**\n",
    "\n",
    "The `user_data` is property is not something we'll use very often.  We're simply taking advantage of the fact that it's run by terraform after our instance sets up.  \n",
    "\n",
    "* **EOF**\n",
    "\n",
    "EOF is simply the delimiter for a multiline string in bash (called a docstring).  Notice that we begin with `<<-EOF` and end with `EOF`.  \n",
    "\n",
    "> It's equivalent to the `\"\"\"` in Python.  \n",
    "\n",
    "* **Our Server**\n",
    "\n",
    "Then we write `Hello World` into an `index.html` file.  And that file is then served via the busybox server on port 80, and and the process is run as a background job."
   ]
  },
  {
   "cell_type": "markdown",
   "metadata": {},
   "source": [
    "Now let's apply our changes."
   ]
  },
  {
   "cell_type": "markdown",
   "metadata": {},
   "source": [
    "* `terraform init`\n",
    "* `terraform apply`"
   ]
  },
  {
   "cell_type": "markdown",
   "metadata": {},
   "source": [
    "Now if we try to access our string server by visiting our public ip address, we will not be able to access our page."
   ]
  },
  {
   "cell_type": "markdown",
   "metadata": {},
   "source": [
    "<img src=\"./security_wall_access.png\" width=\"60%\">"
   ]
  },
  {
   "cell_type": "markdown",
   "metadata": {},
   "source": [
    "### The Issue"
   ]
  },
  {
   "cell_type": "markdown",
   "metadata": {},
   "source": [
    "Remember that in AWS, every EC2 instance is placed behind a firewall that determines how traffic from flows to and from EC2 machine.  By default, no traffic is allowed to flow into our EC2 machine.  \n",
    "\n",
    "But don't worry we can enable access with the following."
   ]
  },
  {
   "cell_type": "markdown",
   "metadata": {},
   "source": [
    "```bash\n",
    "resource \"aws_security_group\" \"app_security\" {\n",
    "  name = \"app_security\"\n",
    "  ingress {\n",
    "    from_port   = 80\n",
    "    to_port     = 80\n",
    "    protocol    = \"tcp\"\n",
    "    cidr_blocks = [\"0.0.0.0/0\"]\n",
    "  }\n",
    "}\n",
    "```"
   ]
  },
  {
   "cell_type": "markdown",
   "metadata": {},
   "source": [
    "The above information mainly aligns with the information we provided through the AWS console."
   ]
  },
  {
   "cell_type": "markdown",
   "metadata": {},
   "source": [
    "<img src=\"./ssh-access.png\" width=\"100%\">"
   ]
  },
  {
   "cell_type": "markdown",
   "metadata": {},
   "source": [
    "So now, with our terraform code copied below, let's describe what it's doing.\n",
    "\n",
    "We create a `aws_security_group` resource, which specifies the firewall for our ec2 instance.  We name it `app_security` in terraform, and then inside the block specify the aws group name of `app_security` as well.  \n",
    "\n",
    "Ingress is used to describe traffic flowing into our application.  Here we say that users can access our application at port 80, and this traffic will flow to port 80.  Then the `cidr_blocks` is used to specify which ip addresses are allowed to access our machine.  In this case we provide `0.0.0.0/0` to not restrict based on ip address."
   ]
  },
  {
   "cell_type": "markdown",
   "metadata": {},
   "source": [
    "```bash\n",
    "resource \"aws_security_group\" \"app_security\" {\n",
    "  name = \"app_security\"\n",
    "  ingress {\n",
    "    from_port   = 80\n",
    "    to_port     = 80\n",
    "    protocol    = \"tcp\"\n",
    "    cidr_blocks = [\"0.0.0.0/0\"]\n",
    "  }\n",
    "}\n",
    "```"
   ]
  },
  {
   "cell_type": "markdown",
   "metadata": {},
   "source": [
    "Now that we created our new security group resource the changes there is one last step."
   ]
  },
  {
   "cell_type": "markdown",
   "metadata": {},
   "source": [
    "### Connecting our Resources"
   ]
  },
  {
   "cell_type": "markdown",
   "metadata": {},
   "source": [
    "We need to tell our EC2 instance to use our created resource above.  We do so adding the `security_group_ids` attribute.  In other words, we want to find the id of the security group created above. \n",
    "\n",
    "Finding that id is a little tricky, especially because the security group hasn't yet been created.  But we can do so by adding the following code to our resource."
   ]
  },
  {
   "cell_type": "markdown",
   "metadata": {},
   "source": [
    "```bash\n",
    "resource \"aws_instance\" \"example\" {\n",
    "  ami           = \"ami-0c55b159cbfafe1f0\"\n",
    "  instance_type = \"t2.micro\"\n",
    "  vpc_security_group_ids = [aws_security_group.app_security.id]\n",
    "\n",
    "\n",
    "  user_data = <<-EOF\n",
    "              #!/bin/bash\n",
    "              echo \"Hello, World\" > index.html\n",
    "              nohup busybox httpd -f -p 80 &\n",
    "              EOF\n",
    "}\n",
    "```"
   ]
  },
  {
   "cell_type": "markdown",
   "metadata": {},
   "source": [
    "So above, we retrieve the id by going to the resource type `aws_security_group` then the name of our specific resource `app_security` and then the id property `id`.  With that we can apply our changes and access our website."
   ]
  },
  {
   "cell_type": "markdown",
   "metadata": {},
   "source": [
    "<img src=\"./hello_tf.png\" width=\"60%\">"
   ]
  },
  {
   "cell_type": "markdown",
   "metadata": {},
   "source": [
    "### Summary"
   ]
  },
  {
   "cell_type": "markdown",
   "metadata": {},
   "source": [
    "In this lesson, we discussed how to configure the security group, or firewall, for our EC2 instance.  We do so by creating an `aws_security_group` resource, and then linking to that resource within our EC2 resource.\n",
    "\n",
    "To create the `aws_security_group` resource we need to specify the `to_port`, where the client can connect to and the `from_port`, where the client is then forwarded to.  We also use the `cidr_blocks` attribute to specify which ip addresses have access to our EC2 machine.\n",
    "\n",
    "```bash\n",
    "resource \"aws_security_group\" \"app_security\" {\n",
    "  name = \"app_security\"\n",
    "  ingress {\n",
    "    from_port   = 80\n",
    "    to_port     = 80\n",
    "    protocol    = \"tcp\"\n",
    "    cidr_blocks = [\"0.0.0.0/0\"]\n",
    "  }\n",
    "}\n",
    "```\n",
    "\n",
    "Finally, we conect our `aws_security_group` and `aws_instance` resources by adding the following line of code to our specific aws instance.\n",
    "```bash\n",
    "vpc_security_group_ids =  [aws_security_group.app_security.id]\n",
    "```"
   ]
  },
  {
   "cell_type": "markdown",
   "metadata": {},
   "source": [
    "### Resources"
   ]
  },
  {
   "cell_type": "markdown",
   "metadata": {},
   "source": [
    "[Introducing Terraform](https://blog.gruntwork.io/an-introduction-to-terraform-f17df9c6d180)\n",
    "\n",
    "[Terraform with Docker](https://www.airpair.com/aws/posts/ntiered-aws-docker-terraform-guide)"
   ]
  },
  {
   "cell_type": "markdown",
   "metadata": {},
   "source": [
    "* Potentially, need to talk about nginx and an AWS load balancer."
   ]
  },
  {
   "cell_type": "code",
   "execution_count": null,
   "metadata": {},
   "outputs": [],
   "source": []
  }
 ],
 "metadata": {
  "kernelspec": {
   "display_name": "Python 3",
   "language": "python",
   "name": "python3"
  },
  "language_info": {
   "codemirror_mode": {
    "name": "ipython",
    "version": 3
   },
   "file_extension": ".py",
   "mimetype": "text/x-python",
   "name": "python",
   "nbconvert_exporter": "python",
   "pygments_lexer": "ipython3",
   "version": "3.9.1"
  }
 },
 "nbformat": 4,
 "nbformat_minor": 4
}
