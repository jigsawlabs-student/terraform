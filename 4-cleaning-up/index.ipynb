{
 "cells": [
  {
   "cell_type": "markdown",
   "metadata": {},
   "source": [
    "# Using Variables"
   ]
  },
  {
   "cell_type": "markdown",
   "metadata": {},
   "source": [
    "### Introduction"
   ]
  },
  {
   "cell_type": "markdown",
   "metadata": {},
   "source": [
    "In this lesson, we'll see how we can incorporate coding practice such as using variables to prevent repeating ourselves.  We'll then see how to use output variables to have terraform return to us valuable information after updating a resource."
   ]
  },
  {
   "cell_type": "markdown",
   "metadata": {},
   "source": [
    "### Adding Input Variables"
   ]
  },
  {
   "cell_type": "markdown",
   "metadata": {},
   "source": [
    "Let's take another look at the EC2 resource and the HTTP security group that we configured in previous lessons."
   ]
  },
  {
   "cell_type": "markdown",
   "metadata": {},
   "source": [
    "```bash\n",
    "resource \"aws_instance\" \"backend\" {\n",
    "  ami           = \"ami-0c55b159cbfafe1f0\"\n",
    "  instance_type = \"t2.micro\"\n",
    "\n",
    "  user_data = <<-EOF\n",
    "              #!/bin/bash\n",
    "              echo \"Hello, World\" > index.html\n",
    "              nohup busybox httpd -f -p 80 &\n",
    "              EOF\n",
    "}\n",
    "\n",
    "resource \"aws_security_group\" \"app_security\" {\n",
    "  name = \"app_security\"\n",
    "  ingress {\n",
    "    from_port   = 80\n",
    "    to_port     = 80\n",
    "    protocol    = \"tcp\"\n",
    "    cidr_blocks = [\"0.0.0.0/0\"]\n",
    "  }\n",
    "}\n",
    "\n",
    "```"
   ]
  },
  {
   "cell_type": "markdown",
   "metadata": {},
   "source": [
    "As we can see there is a good amount of repetition with specifying our port number of `80`.  This is a good case for using a variable.  Let's see it."
   ]
  },
  {
   "cell_type": "markdown",
   "metadata": {},
   "source": [
    "```bash\n",
    "variable \"port_number\" {\n",
    "  description = \"server number for HTTP requests\"\n",
    "  type        = number\n",
    "  default     = 80\n",
    "}\n",
    "```"
   ]
  },
  {
   "cell_type": "markdown",
   "metadata": {},
   "source": [
    "And then we can access the variable by the object type, followed by the name of the variable.  So updating our security group resource, it looks like the following:"
   ]
  },
  {
   "cell_type": "markdown",
   "metadata": {},
   "source": [
    "```bash\n",
    "resource \"aws_security_group\" \"app_security\" {\n",
    "  name = \"app_security\"\n",
    "  ingress {\n",
    "    from_port   = var.port_number\n",
    "    to_port     = var.port_number\n",
    "    protocol    = \"tcp\"\n",
    "    cidr_blocks = [\"0.0.0.0/0\"]\n",
    "  }\n",
    "}\n",
    "```"
   ]
  },
  {
   "cell_type": "markdown",
   "metadata": {},
   "source": [
    "We can also use the variable to update our aws security code."
   ]
  },
  {
   "cell_type": "markdown",
   "metadata": {},
   "source": [
    "```bash\n",
    "resource \"aws_instance\" \"backend\" {\n",
    "  ami           = \"ami-0c55b159cbfafe1f0\"\n",
    "  instance_type = \"t2.micro\"\n",
    "\n",
    "  user_data = <<-EOF\n",
    "              #!/bin/bash\n",
    "              echo \"Hello, World\" > index.html\n",
    "              nohup busybox httpd -f -p \"${var.port_number}\" &\n",
    "              EOF\n",
    "}\n",
    "```"
   ]
  },
  {
   "cell_type": "markdown",
   "metadata": {},
   "source": [
    "So above, because we are referencing the variable from within our string, we use interpolation when referencing our variable -- `${var.port_number}`."
   ]
  },
  {
   "cell_type": "markdown",
   "metadata": {},
   "source": [
    "The above variables are called *input variables*.  And when we specified the value, we really specified the *default* value."
   ]
  },
  {
   "cell_type": "markdown",
   "metadata": {},
   "source": [
    "```bash\n",
    "variable \"port_number\" {\n",
    "  description = \"server number for HTTP requests\"\n",
    "  type        = number\n",
    "  default     = 80\n",
    "}\n",
    "```"
   ]
  },
  {
   "cell_type": "markdown",
   "metadata": {},
   "source": [
    "But we can override this default variable through the terraform command line like so. "
   ]
  },
  {
   "cell_type": "markdown",
   "metadata": {},
   "source": [
    "> `terraform apply -var \"port_number=3000\"`"
   ]
  },
  {
   "cell_type": "markdown",
   "metadata": {},
   "source": [
    "### Output Variables "
   ]
  },
  {
   "cell_type": "markdown",
   "metadata": {},
   "source": [
    "Now that we learned about input variables, the other type of variables we can use are output variables.  Let's see an example."
   ]
  },
  {
   "cell_type": "markdown",
   "metadata": {},
   "source": [
    "```bash\n",
    "output \"public_ip\" {\n",
    "  value       = aws_instance.backend.public_ip\n",
    "  description = \"The public IP of the web server\"\n",
    "}\n",
    "```"
   ]
  },
  {
   "cell_type": "markdown",
   "metadata": {},
   "source": [
    "So as we can see, output variables are variables that are computed from our resources.  These are valuable because after running `terraform apply`, now we'll be outputted the public ip address and will not have to search around for it."
   ]
  },
  {
   "cell_type": "markdown",
   "metadata": {},
   "source": [
    "### Summary"
   ]
  },
  {
   "cell_type": "markdown",
   "metadata": {},
   "source": [
    "In this lesson, we learned how to define both input variables and output variables in terraform.  For input variables, we define them with the variable name, type and default value like so:"
   ]
  },
  {
   "cell_type": "markdown",
   "metadata": {},
   "source": [
    "```bash\n",
    "variable \"port_number\" {\n",
    "  description = \"server number for HTTP requests\"\n",
    "  type        = number\n",
    "  default     = 80\n",
    "}\n",
    "```"
   ]
  },
  {
   "cell_type": "markdown",
   "metadata": {},
   "source": [
    "And then we reference the variable by with var followed by the variable name, so for the above it's `var.port_number`.  We can also override the default value from the command line with something like `terraform apply var \"port_number=3000\"`."
   ]
  },
  {
   "cell_type": "markdown",
   "metadata": {},
   "source": [
    "Then we moved onto output variables, which are variables that are computed when configuring our resources, and outputted from the apply command."
   ]
  },
  {
   "cell_type": "markdown",
   "metadata": {},
   "source": [
    "```bash\n",
    "output \"public_ip\" {\n",
    "  value       = aws_instance.backend.public_ip\n",
    "  description = \"The public IP of the web server\"\n",
    "}\n",
    "```"
   ]
  }
 ],
 "metadata": {
  "kernelspec": {
   "display_name": "Python 3",
   "language": "python",
   "name": "python3"
  },
  "language_info": {
   "codemirror_mode": {
    "name": "ipython",
    "version": 3
   },
   "file_extension": ".py",
   "mimetype": "text/x-python",
   "name": "python",
   "nbconvert_exporter": "python",
   "pygments_lexer": "ipython3",
   "version": "3.9.1"
  }
 },
 "nbformat": 4,
 "nbformat_minor": 4
}
