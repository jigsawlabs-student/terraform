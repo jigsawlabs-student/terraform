{
 "cells": [
  {
   "cell_type": "markdown",
   "metadata": {},
   "source": [
    "Three to one of data engineering \n",
    "Forest:\n",
    "Leetcode type python coding (relatively easy questions) looking for refacotring the code to make it as efficient as possible, and can analyze it from algorithmic complexity - big O\n",
    "SQL\n",
    "Systems design: Gotten a good number of interviews in system design type interviews\n",
    "Designing a database for a specific problem \n",
    "Cybersecurity insurance - design a database - hold data for a machine learning algorithm that will take data scraped from the web and other places, and store in a database, and have it be ready to use\n",
    "And knowing that the features in the ML model might change\n",
    "How things would change if the features changed.  \n",
    "Draw on the dems and the fact table.\n",
    "Educative.io - some courses on systems design (grokking the systems design interview)\n",
    "Lead Data Engineer Position\n",
    "Asking for an application, if you were designing a search bar that shows the ten most relevant results -- how would the back end of that look.  This is a written question that you’ve seen.  What would be the responsibility of the front end engineer, backend engineer, and data engineer.\n",
    "ElasticSearch - \n",
    "Case study like SQL questions\n",
    "Design the table, then create the query, and what are some advantages or disadvantages of the query.\n",
    "Or what if two different datatypes were going into this column.  \n",
    "Tying \n",
    "productmask - questions\n",
    "Scenario Based questions\n",
    "Tech consulting company - \n",
    "Received documents from the organization and need to figure out how to get the documents that have no labeling or ordering on them.  So need to find a way to make sense of it.  \n",
    "Looking for dates, and categories \n",
    "The smaller the company the more system design\n",
    "\n",
    "\n",
    "Show how they all connect and interact with each other.  \n",
    "Creating the  SQL, designing the tables --\n",
    "Airflow is very important - data swarm is very similar to airflow, so this is where all of the ETL pipelines - where a lot \n",
    "Dependency operators - \n",
    "Consistent the Python coding and algorithmic complexity \n",
    "Leetcode level easy is sufficient for a lot of them.  And more emphasis is placed on the SQL and getting that right.  \n",
    "Eg. Twosum - Go through an array of numbers, return the indices of two numbers such that they add up to a target number\n",
    "1. Can solve with brute force\n",
    "And then refactor.  \n",
    "InterviewQuery - and they - both python and SQL questions, and can access more if you pay something\n",
    "\n",
    "\n",
    "\n"
   ]
  },
  {
   "cell_type": "code",
   "execution_count": null,
   "metadata": {},
   "outputs": [],
   "source": []
  },
  {
   "cell_type": "code",
   "execution_count": null,
   "metadata": {},
   "outputs": [],
   "source": []
  }
 ],
 "metadata": {
  "kernelspec": {
   "display_name": "Python 3",
   "language": "python",
   "name": "python3"
  },
  "language_info": {
   "codemirror_mode": {
    "name": "ipython",
    "version": 3
   },
   "file_extension": ".py",
   "mimetype": "text/x-python",
   "name": "python",
   "nbconvert_exporter": "python",
   "pygments_lexer": "ipython3",
   "version": "3.9.1"
  }
 },
 "nbformat": 4,
 "nbformat_minor": 4
}
